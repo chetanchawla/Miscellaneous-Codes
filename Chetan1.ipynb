{
  "nbformat": 4,
  "nbformat_minor": 0,
  "metadata": {
    "colab": {
      "name": "Chetan1.ipynb",
      "provenance": [],
      "authorship_tag": "ABX9TyP8QT3TA1mWEFS3yObWphXx",
      "include_colab_link": true
    },
    "kernelspec": {
      "name": "python3",
      "display_name": "Python 3"
    }
  },
  "cells": [
    {
      "cell_type": "markdown",
      "metadata": {
        "id": "view-in-github",
        "colab_type": "text"
      },
      "source": [
        "<a href=\"https://colab.research.google.com/github/chetanchawla/Miscellaneous-Codes/blob/master/Chetan1.ipynb\" target=\"_parent\"><img src=\"https://colab.research.google.com/assets/colab-badge.svg\" alt=\"Open In Colab\"/></a>"
      ]
    },
    {
      "cell_type": "code",
      "metadata": {
        "id": "LNy4u4ouOGE4",
        "colab_type": "code",
        "colab": {
          "base_uri": "https://localhost:8080/",
          "height": 35
        },
        "outputId": "9e2a024c-8f9d-4c6e-a73f-6c1d199cc64e"
      },
      "source": [
        "print(\"Hi\")"
      ],
      "execution_count": 1,
      "outputs": [
        {
          "output_type": "stream",
          "text": [
            "Hi\n"
          ],
          "name": "stdout"
        }
      ]
    },
    {
      "cell_type": "markdown",
      "metadata": {
        "id": "kOogxWmWOu6X",
        "colab_type": "text"
      },
      "source": [
        "Trying to push to Github"
      ]
    }
  ]
}